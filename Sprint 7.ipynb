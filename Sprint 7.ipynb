{
 "cells": [
  {
   "cell_type": "markdown",
   "metadata": {},
   "source": [
    "# Nivell 1"
   ]
  },
  {
   "cell_type": "markdown",
   "metadata": {},
   "source": [
    "#### Exercici: 1.  Calculadora de l'índex de massa corporal\n",
    "Escriu una funció que calculi l'IMC ingressat per l'usuari/ària, és a dir, qui ho executi haurà d'ingressar aquestes dades. Pots obtenir més informació del seu càlcul en: La funció ha de classificar el resultat en les seves respectives categories.\n",
    "Bajo peso: menos de 18,5.\n",
    "Peso normal: 18,5-24,9.\n",
    "Sobrepeso: 25-29,9.\n",
    "Obesidad: más de 30."
   ]
  },
  {
   "cell_type": "code",
   "execution_count": null,
   "metadata": {},
   "outputs": [
    {
     "name": "stdout",
     "output_type": "stream",
     "text": [
      "24.0 IMC normal\n",
      "{'pes baix': [], 'pes normal': [24.0], 'sobrepes': [], 'obesitat': []}\n"
     ]
    }
   ],
   "source": [
    "def calcul_imc():\n",
    "    dic = {\"pes baix\" : [], \"pes normal\": [], \"sobrepes\": [], \"obesitat\": []}\n",
    "    kg = float(input(\"Enter your weight in kg\"))\n",
    "    height = float(input(\"Enter your height in meters\"))\n",
    "    imc = float(round(kg/(height**2), 1))\n",
    "    if 0 <= imc < 18.5 :\n",
    "        dic[\"pes baix\"].append(imc)\n",
    "        print(f\"{imc} IMC baix\")\n",
    "    elif 18.5 <= imc < 25:\n",
    "        dic[\"pes normal\"].append(imc)\n",
    "        print(f\"{imc} IMC normal\")\n",
    "    elif 25 <= imc < 30:\n",
    "        dic[\"sobrepes\"].append(imc)\n",
    "        print(f\"{imc} IMC alt\")\n",
    "    elif imc >= 30:\n",
    "        dic[\"obesitat\"].append(imc)\n",
    "        print(f\"{imc} és un IMC molt alt\")\n",
    "    else: print(\"Introdueix un número vàlid\")\n",
    "    print(dic)\n",
    "calcul_imc()"
   ]
  },
  {
   "cell_type": "markdown",
   "metadata": {},
   "source": [
    "#### Exercici: 2. Convertidor de temperatures.\n",
    "\n",
    "Existeixen diverses unitats de temperatura utilitzades en diferents contextos i regions. Les més comunes són Celsius (°C), Fahrenheit (°F) i Kelvin (K). També existeixen altres unitats com Rankine (°Ra) i Réaumur (°Re). Selecciona almenys 2 conversors, de tal manera que en introduir una temperatura retorni, com a mínim, dues conversions."
   ]
  },
  {
   "cell_type": "code",
   "execution_count": 6,
   "metadata": {},
   "outputs": [
    {
     "name": "stdout",
     "output_type": "stream",
     "text": [
      "25.0ºC equivalen a 6853.75ºK i 20.0ºR\n"
     ]
    }
   ],
   "source": [
    "celsius = float(input(\"Introdueix la temperatura en Celsius\"))\n",
    "kelvin = round(celsius * 274.15, 2)\n",
    "reaumur = round(celsius * 0.8, 2)\n",
    "\n",
    "print(f\"{celsius}ºC equivalen a {kelvin}ºK i {reaumur}ºR\")"
   ]
  },
  {
   "cell_type": "markdown",
   "metadata": {},
   "source": [
    "#### Exercici: 3. Comptador de paraules d'un text.\n",
    "\n",
    "Escriu una funció que donat un text, mostri les vegades que apareix cada paraula."
   ]
  },
  {
   "cell_type": "code",
   "execution_count": 9,
   "metadata": {},
   "outputs": [
    {
     "name": "stdout",
     "output_type": "stream",
     "text": [
      "{'b': 2, 'o': 3, 'n': 2, 'd': 1, 'i': 2, 'a': 3, 'h': 1, 'r': 1}\n",
      "b : 2\n",
      "o : 3\n",
      "n : 2\n",
      "d : 1\n",
      "i : 2\n",
      "a : 3\n",
      "h : 1\n",
      "r : 1\n"
     ]
    }
   ],
   "source": [
    "dic_text = {}\n",
    "text = input(\"Introdueix un text\")\n",
    "for lletra in text:\n",
    "    if lletra != \" \":\n",
    "        if lletra in dic_text:\n",
    "            dic_text[lletra] +=1\n",
    "        else:\n",
    "            dic_text[lletra] =1\n",
    "print(dic_text)\n",
    "for lletra, recompte in dic_text.items():\n",
    "    print(f\"{lletra} : {recompte}\")\n"
   ]
  },
  {
   "cell_type": "markdown",
   "metadata": {},
   "source": [
    "#### Exercici 4: Diccionari invers.\n",
    "\n",
    "Resulta que el client té una enquesta molt antiga que s'emmagatzema en un diccionari i els resultats els necessita al revés, és a dir, intercanviats les claus i els valors. Els valors i claus en el diccionari original són únics; si aquest no és el cas, la funció hauria d'imprimir un missatge d'advertiment."
   ]
  },
  {
   "cell_type": "code",
   "execution_count": null,
   "metadata": {},
   "outputs": [
    {
     "name": "stdout",
     "output_type": "stream",
     "text": [
      "{1: 'a', 2: 'b', 3: 'c'}\n",
      "{'apple': 1, 'banana': 2}\n",
      "banana: Error: multiple keys for one value\n"
     ]
    }
   ],
   "source": [
    "reverse_dictionary = ({\"a\" : 1, \"b\": 2, \"c\": 3})\n",
    "dictionary = {v:k for k, v in reverse_dictionary.items()}\n",
    "print(dictionary)\n",
    "\n",
    "reverse_dictionary2 = ({\"x\": \"apple\", \"y\": \"banana\", \"z\": \"banana\"})\n",
    "repe = {}\n",
    "for v in reverse_dictionary2.values():\n",
    "    if v in repe:\n",
    "        repe[v] += 1\n",
    "    else:\n",
    "        repe[v] = 1\n",
    "print(repe)\n",
    "for fruita, v in repe.items():\n",
    "    if v > 1:\n",
    "        print(f\"{fruita}: Error: multiple keys for one value\")"
   ]
  },
  {
   "cell_type": "markdown",
   "metadata": {},
   "source": [
    "# Nivell 2"
   ]
  },
  {
   "cell_type": "markdown",
   "metadata": {},
   "source": [
    "#### Exercici 1: Diccionari invers amb duplicats\n",
    "\n",
    "Continuant amb l'exercici 4 del nivell 1: al client es va oblidar de comentar un detall i resulta que els valors en el diccionari original poden duplicar-se i més, per la qual cosa les claus intercanviades poden tenir duplicats. En aquest cas, en l'exercici anterior imprimies un missatge d'advertiment, ara, els valors del diccionari resultant hauran d'emmagatzemar-se com una llista. Tingues en compte que si és un valor únic no ha de ser una llista."
   ]
  },
  {
   "cell_type": "code",
   "execution_count": 15,
   "metadata": {},
   "outputs": [
    {
     "name": "stdout",
     "output_type": "stream",
     "text": [
      "{'apple': ['x'], 'banana': ['y', 'z']}\n",
      "{'apple': 'x', 'banana': ['y', 'z']}\n"
     ]
    }
   ],
   "source": [
    "reverse_dictionary2 = ({\"x\": \"apple\", \"y\": \"banana\", \"z\": \"banana\"})\n",
    "dictionary2 = {}\n",
    "for k, v in reverse_dictionary2.items():\n",
    "    if v in dictionary2:\n",
    "        dictionary2[v].append(k)\n",
    "    else:\n",
    "        dictionary2[v]=[k]\n",
    "print(dictionary2)\n",
    "\n",
    "def delist(v):\n",
    "    while isinstance(v, list) and len(v) == 1:\n",
    "        v = v[0]\n",
    "    if v == []:\n",
    "        v = \"\"\n",
    "    return v\n",
    "    v += 1\n",
    "new_dict2 = {k: delist(v) for k, v in dictionary2.items()}\n",
    "print(new_dict2)"
   ]
  },
  {
   "cell_type": "markdown",
   "metadata": {},
   "source": [
    "#### Exercici 2: Conversió de tipus de dades\n",
    "\n",
    "El client rep una llista de dades i necessita generar dues llistes, la primera on estaran tots els elements que es van poder convertir en flotants i l'altra on estan els elements que no es van poder convertir. Exemple de la llista que rep el client: [ '1.3', 'one' , '1e10' , 'seven', '3-1/2', ('2',1,1.4,'not-a-number'), [1,2,'3','3.4']]"
   ]
  },
  {
   "cell_type": "code",
   "execution_count": null,
   "metadata": {},
   "outputs": [
    {
     "name": "stdout",
     "output_type": "stream",
     "text": [
      "([1.3, 10000000000.0, 2.0, 1.0, 1.4, 1.0, 2.0, 3.0, 3.4], ['one', 'seven', '3-1/2', 'not-a-number'])\n"
     ]
    }
   ],
   "source": [
    "conversion = ['1.3', 'one' , '1e10' , 'seven', '3-1/2', ('2',1,1.4,'not-a-number'), [1,2,'3','3.4']]\n",
    "floats = []\n",
    "nofloat = []\n",
    "\n",
    "def llistes(x):\n",
    "        if isinstance(x, float):\n",
    "            floats.append(x)\n",
    "        elif isinstance(x, int):\n",
    "            floats.append(float(x))\n",
    "        elif isinstance(x, str):\n",
    "            try:\n",
    "                floats.append(float(x))\n",
    "            except ValueError:\n",
    "                nofloat.append(x)\n",
    "        elif isinstance(x, list) or isinstance(x,tuple):\n",
    "             for a in x:\n",
    "                  llistes(a)\n",
    "        else:\n",
    "            nofloat.append(x)\n",
    "\n",
    "def llista(elements):\n",
    "     for elem in elements:\n",
    "          llistes(elem)\n",
    "llista(conversion)\n",
    "\n",
    "print((floats, nofloat))"
   ]
  },
  {
   "cell_type": "code",
   "execution_count": 12,
   "metadata": {},
   "outputs": [
    {
     "name": "stdout",
     "output_type": "stream",
     "text": [
      "<function llista at 0x000001CB9935E7A0>\n"
     ]
    }
   ],
   "source": [
    "print(llista)"
   ]
  }
 ],
 "metadata": {
  "kernelspec": {
   "display_name": "base",
   "language": "python",
   "name": "python3"
  },
  "language_info": {
   "codemirror_mode": {
    "name": "ipython",
    "version": 3
   },
   "file_extension": ".py",
   "mimetype": "text/x-python",
   "name": "python",
   "nbconvert_exporter": "python",
   "pygments_lexer": "ipython3",
   "version": "3.12.4"
  }
 },
 "nbformat": 4,
 "nbformat_minor": 2
}
